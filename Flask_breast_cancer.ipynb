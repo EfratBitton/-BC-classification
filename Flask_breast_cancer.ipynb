{
  "cells": [
    {
      "cell_type": "markdown",
      "metadata": {
        "id": "BRgEM8jwxpqA"
      },
      "source": [
        "**This code is a basic example how to use Flask **"
      ]
    },
    {
      "cell_type": "code",
      "execution_count": null,
      "metadata": {
        "colab": {
          "base_uri": "https://localhost:8080/"
        },
        "id": "Raa5UaBRk4fq",
        "outputId": "ee8d6a73-da24-431e-ba88-452dd4546d93"
      },
      "outputs": [
        {
          "output_type": "stream",
          "name": "stdout",
          "text": [
            "Looking in indexes: https://pypi.org/simple, https://us-python.pkg.dev/colab-wheels/public/simple/\n",
            "Collecting flask-ngrok\n",
            "  Downloading flask_ngrok-0.0.25-py3-none-any.whl (3.1 kB)\n",
            "Requirement already satisfied: Flask>=0.8 in /usr/local/lib/python3.7/dist-packages (from flask-ngrok) (1.1.4)\n",
            "Requirement already satisfied: requests in /usr/local/lib/python3.7/dist-packages (from flask-ngrok) (2.23.0)\n",
            "Requirement already satisfied: Jinja2<3.0,>=2.10.1 in /usr/local/lib/python3.7/dist-packages (from Flask>=0.8->flask-ngrok) (2.11.3)\n",
            "Requirement already satisfied: itsdangerous<2.0,>=0.24 in /usr/local/lib/python3.7/dist-packages (from Flask>=0.8->flask-ngrok) (1.1.0)\n",
            "Requirement already satisfied: click<8.0,>=5.1 in /usr/local/lib/python3.7/dist-packages (from Flask>=0.8->flask-ngrok) (7.1.2)\n",
            "Requirement already satisfied: Werkzeug<2.0,>=0.15 in /usr/local/lib/python3.7/dist-packages (from Flask>=0.8->flask-ngrok) (1.0.1)\n",
            "Requirement already satisfied: MarkupSafe>=0.23 in /usr/local/lib/python3.7/dist-packages (from Jinja2<3.0,>=2.10.1->Flask>=0.8->flask-ngrok) (2.0.1)\n",
            "Requirement already satisfied: urllib3!=1.25.0,!=1.25.1,<1.26,>=1.21.1 in /usr/local/lib/python3.7/dist-packages (from requests->flask-ngrok) (1.24.3)\n",
            "Requirement already satisfied: chardet<4,>=3.0.2 in /usr/local/lib/python3.7/dist-packages (from requests->flask-ngrok) (3.0.4)\n",
            "Requirement already satisfied: certifi>=2017.4.17 in /usr/local/lib/python3.7/dist-packages (from requests->flask-ngrok) (2022.6.15)\n",
            "Requirement already satisfied: idna<3,>=2.5 in /usr/local/lib/python3.7/dist-packages (from requests->flask-ngrok) (2.10)\n",
            "Installing collected packages: flask-ngrok\n",
            "Successfully installed flask-ngrok-0.0.25\n",
            "Looking in indexes: https://pypi.org/simple, https://us-python.pkg.dev/colab-wheels/public/simple/\n",
            "Collecting pyngrok\n",
            "  Downloading pyngrok-5.1.0.tar.gz (745 kB)\n",
            "\u001b[K     |████████████████████████████████| 745 kB 3.5 MB/s \n",
            "\u001b[?25hRequirement already satisfied: PyYAML in /usr/local/lib/python3.7/dist-packages (from pyngrok) (3.13)\n",
            "Building wheels for collected packages: pyngrok\n",
            "  Building wheel for pyngrok (setup.py) ... \u001b[?25l\u001b[?25hdone\n",
            "  Created wheel for pyngrok: filename=pyngrok-5.1.0-py3-none-any.whl size=19007 sha256=a63ec36d5049d85445950e612913c8d847d65f099d64e5ee9d5d0d57e28ca1e5\n",
            "  Stored in directory: /root/.cache/pip/wheels/bf/e6/af/ccf6598ecefecd44104069371795cb9b3afbcd16987f6ccfb3\n",
            "Successfully built pyngrok\n",
            "Installing collected packages: pyngrok\n",
            "Successfully installed pyngrok-5.1.0\n"
          ]
        }
      ],
      "source": [
        "!pip install flask-ngrok\n",
        "!pip install pyngrok"
      ]
    },
    {
      "cell_type": "code",
      "execution_count": null,
      "metadata": {
        "colab": {
          "base_uri": "https://localhost:8080/"
        },
        "id": "yyHXOi6LmPZI",
        "outputId": "16b79b47-399f-4ad2-8e8b-47246cd5eead"
      },
      "outputs": [
        {
          "output_type": "stream",
          "name": "stdout",
          "text": [
            "Authtoken saved to configuration file: /root/.ngrok2/ngrok.yml\n"
          ]
        }
      ],
      "source": [
        "# You have to sign to ngrok and get your personal authtoken\n",
        "!ngrok authtoken 29I5ri0tpacTVop4jHgEPLztwUn_2TyxuTEecu4HxrRnBYnSj"
      ]
    },
    {
      "cell_type": "code",
      "execution_count": null,
      "metadata": {
        "id": "ieYWT3Whf9NT",
        "colab": {
          "base_uri": "https://localhost:8080/"
        },
        "outputId": "721ae78e-9270-40e4-fe30-a1ee81ba3853"
      },
      "outputs": [
        {
          "output_type": "stream",
          "name": "stdout",
          "text": [
            "Mounted at /content/drive\n"
          ]
        }
      ],
      "source": [
        "import numpy as np\n",
        "import flask\n",
        "from flask import Flask, request, jsonify\n",
        "import pickle\n",
        "from flask import Flask, request,jsonify\n",
        "from flask_ngrok import run_with_ngrok\n",
        "import pandas as pd\n",
        "import joblib\n",
        "import json\n",
        "from flask import Response\n",
        "from json import dumps\n",
        "from flask import Flask, make_response\n",
        "from google.colab import drive\n",
        "drive.mount('/content/drive')"
      ]
    },
    {
      "cell_type": "code",
      "source": [
        "app = Flask(__name__)\n",
        "\n",
        "run_with_ngrok(app)   \n",
        "\n",
        "@app.route('/pred', methods = [\"POST\"])\n",
        "def pred():\n",
        "  data = request.get_json()\n",
        "  df = pd.DataFrame(data) \n",
        "  names=[]\n",
        "  for i in range(1,len(df[df.columns[0]])+1):\n",
        "    names.append(\"patient_\"+str(i))\n",
        "  if df.shape[1]==56499:\n",
        "    df=df.drop(df.columns[0],axis=1)\n",
        "  temp=(df.iloc[:].values)\n",
        "\n",
        "  er_model = joblib.load('/content/drive/MyDrive/project/er_model.sav')\n",
        "  er=er_model.predict(temp)\n",
        "\n",
        "  pr_model = joblib.load('/content/drive/MyDrive/project/pr_model.sav')\n",
        "  pr=pr_model.predict(temp)\n",
        "\n",
        "  her2_model = joblib.load('/content/drive/MyDrive/project/her2_model.sav')\n",
        "  her2=her2_model.predict(temp)\n",
        "\n",
        "  subtype_model = joblib.load('/content/drive/MyDrive/project/subtype_model.sav')\n",
        "  subtype=subtype_model.predict(temp)\n",
        "\n",
        "  ans = pd.DataFrame(\n",
        "    data=[names,er,pr,her2,subtype]\n",
        "    ,index=[\"Id\",\"Er\",\"Pr\",\"Her2\",\"Subtype\"])\n",
        "  ans=ans.to_json(orient = 'columns')\n",
        "  return(ans)\n",
        "\n",
        "app.run()"
      ],
      "metadata": {
        "colab": {
          "base_uri": "https://localhost:8080/"
        },
        "id": "TAlekEQgugLL",
        "outputId": "c48c993c-6a6b-4fed-e9ff-22fe5d1f07ac"
      },
      "execution_count": null,
      "outputs": [
        {
          "output_type": "stream",
          "name": "stdout",
          "text": [
            " * Serving Flask app \"__main__\" (lazy loading)\n",
            " * Environment: production\n",
            "\u001b[31m   WARNING: This is a development server. Do not use it in a production deployment.\u001b[0m\n",
            "\u001b[2m   Use a production WSGI server instead.\u001b[0m\n",
            " * Debug mode: off\n"
          ]
        },
        {
          "output_type": "stream",
          "name": "stderr",
          "text": [
            " * Running on http://127.0.0.1:5000/ (Press CTRL+C to quit)\n"
          ]
        },
        {
          "output_type": "stream",
          "name": "stdout",
          "text": [
            " * Running on http://b030-104-199-209-77.ngrok.io\n",
            " * Traffic stats available on http://127.0.0.1:4040\n"
          ]
        },
        {
          "output_type": "stream",
          "name": "stderr",
          "text": [
            "127.0.0.1 - - [06/Jul/2022 14:00:39] \"\u001b[37mPOST /pred HTTP/1.1\u001b[0m\" 200 -\n"
          ]
        }
      ]
    }
  ],
  "metadata": {
    "colab": {
      "collapsed_sections": [],
      "name": "Flask_breast_cancer.ipynb",
      "provenance": []
    },
    "kernelspec": {
      "display_name": "Python 3",
      "name": "python3"
    },
    "language_info": {
      "name": "python"
    }
  },
  "nbformat": 4,
  "nbformat_minor": 0
}